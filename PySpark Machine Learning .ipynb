{
 "cells": [
  {
   "cell_type": "markdown",
   "metadata": {},
   "source": [
    "![](https://www.edureka.co/blog/wp-content/uploads/2018/06/spark-with-python2.png)\n",
    "\n",
    "\n",
    "# Predicting House Prices with Apache Spark\n",
    "\n",
    "In this kernel, we'll make use of the Housing data set. This is actually a small data and that using Spark in this context might be overkill; This notebook is for training purposes only and is meant to give an idea of how we can use PySpark to build a machine learning model.\n",
    "\n",
    "The data contains one row per census block group. A block group is the smallest geographical unit for which the U.S. Census Bureau publishes sample data (a block group typically has a population of 600 to 3,000 people). In this sample a block group on average includes 1425.5 individuals living in a geographically compact area.\n",
    "\n",
    "These spatial data contain 20,640 observations on housing prices with 9 economic variables:\n",
    "\n",
    "- Longitude:refers to the angular distance of a geographic place north or south of the earth’s equator for each block group\n",
    "- Latitude :refers to the angular distance of a geographic place east or west of the earth’s equator for each block group\n",
    "- Housing Median Age:is the median age of the people that belong to a block group. Note that the median is the value that lies at the midpoint of a frequency distribution of observed values\n",
    "- Total Rooms:is the total number of rooms in the houses per block group\n",
    "- Total Bedrooms:is the total number of bedrooms in the houses per block group\n",
    "- Population:is the number of inhabitants of a block group\n",
    "- Households:refers to units of houses and their occupants per block group\n",
    "- Median Income:is used to register the median income of people that belong to a block group\n",
    "- Median House Value:is the dependent variable and refers to the median house value per block group\n",
    "\n",
    "The Median house value is the dependent variable and will be assigned the role of the target variable in our ML model.\n",
    "\n",
    "1. [Creating the Spark session](#1)\n",
    "1. [Import packages and load data](#2)\n",
    "1. [Data exploration](#3)\n",
    "1. [Data Preprocessing](#4)\n",
    "1. [Features engineering](#5)\n",
    "1. [Features extraction](#6)\n",
    "1. [Standardization](#7)\n",
    "1. [Building A Machine Learning Model With Spark ML](#8)\n",
    "1. [ Create an ElasticNet model](#9)\n",
    "1. [Evaluating our first model](#10)\n",
    "1. [Let's try some others models in Spark](#11)\n",
    "1. [Third submission to Kaggle](#12)"
   ]
  },
  {
   "cell_type": "markdown",
   "metadata": {},
   "source": [
    "<a id=\"1\"></a> <br>\n",
    "## Creating the Spark session"
   ]
  },
  {
   "cell_type": "code",
   "execution_count": 1,
   "metadata": {},
   "outputs": [],
   "source": [
    "import findspark\n",
    "findspark.init('C:/Users/Evan/SPARK/spark-3.0.0-preview2-bin-hadoop2.7')"
   ]
  },
  {
   "cell_type": "code",
   "execution_count": 2,
   "metadata": {},
   "outputs": [
    {
     "name": "stdout",
     "output_type": "stream",
     "text": [
      "+-----+\n",
      "|hello|\n",
      "+-----+\n",
      "|spark|\n",
      "+-----+\n",
      "\n"
     ]
    }
   ],
   "source": [
    "import pyspark # only run after findspark.init()\n",
    "from pyspark.sql import SparkSession\n",
    "spark = SparkSession.builder.getOrCreate()\n",
    "\n",
    "df = spark.sql('''select 'spark' as hello ''')\n",
    "df.show()"
   ]
  },
  {
   "cell_type": "code",
   "execution_count": 3,
   "metadata": {},
   "outputs": [],
   "source": [
    "spark = SparkSession.builder\\\n",
    ".master(\"local[2]\")\\\n",
    ".appName(\"Linear-Regression-California-Housing\")\\\n",
    ".getOrCreate()"
   ]
  },
  {
   "cell_type": "code",
   "execution_count": 4,
   "metadata": {},
   "outputs": [
    {
     "data": {
      "text/html": [
       "\n",
       "            <div>\n",
       "                <p><b>SparkSession - in-memory</b></p>\n",
       "                \n",
       "        <div>\n",
       "            <p><b>SparkContext</b></p>\n",
       "\n",
       "            <p><a href=\"http://DESKTOP-71R0F3O.home:4040\">Spark UI</a></p>\n",
       "\n",
       "            <dl>\n",
       "              <dt>Version</dt>\n",
       "                <dd><code>v3.0.0-preview2</code></dd>\n",
       "              <dt>Master</dt>\n",
       "                <dd><code>local[*]</code></dd>\n",
       "              <dt>AppName</dt>\n",
       "                <dd><code>pyspark-shell</code></dd>\n",
       "            </dl>\n",
       "        </div>\n",
       "        \n",
       "            </div>\n",
       "        "
      ],
      "text/plain": [
       "<pyspark.sql.session.SparkSession at 0x1be3e4e3940>"
      ]
     },
     "execution_count": 4,
     "metadata": {},
     "output_type": "execute_result"
    }
   ],
   "source": [
    "spark"
   ]
  },
  {
   "cell_type": "code",
   "execution_count": 5,
   "metadata": {},
   "outputs": [
    {
     "data": {
      "text/html": [
       "\n",
       "        <div>\n",
       "            <p><b>SparkContext</b></p>\n",
       "\n",
       "            <p><a href=\"http://DESKTOP-71R0F3O.home:4040\">Spark UI</a></p>\n",
       "\n",
       "            <dl>\n",
       "              <dt>Version</dt>\n",
       "                <dd><code>v3.0.0-preview2</code></dd>\n",
       "              <dt>Master</dt>\n",
       "                <dd><code>local[*]</code></dd>\n",
       "              <dt>AppName</dt>\n",
       "                <dd><code>pyspark-shell</code></dd>\n",
       "            </dl>\n",
       "        </div>\n",
       "        "
      ],
      "text/plain": [
       "<SparkContext master=local[*] appName=pyspark-shell>"
      ]
     },
     "execution_count": 5,
     "metadata": {},
     "output_type": "execute_result"
    }
   ],
   "source": [
    "sc = spark.sparkContext\n",
    "sc"
   ]
  },
  {
   "cell_type": "markdown",
   "metadata": {},
   "source": [
    "<a id=\"2\"></a> <br>\n",
    "## Import packages and load data"
   ]
  },
  {
   "cell_type": "code",
   "execution_count": 70,
   "metadata": {},
   "outputs": [],
   "source": [
    "import os\n",
    "import pandas as pd\n",
    "import numpy as np\n",
    "\n",
    "from pyspark import SparkConf, SparkContext\n",
    "from pyspark.sql import SparkSession, SQLContext\n",
    "\n",
    "from pyspark.sql.types import *\n",
    "import pyspark.sql.functions as F\n",
    "from pyspark.sql.functions import udf, col\n",
    "\n",
    "from pyspark.ml.regression import (LinearRegression, GeneralizedLinearRegression,\n",
    "DecisionTreeRegressor, RandomForestRegressor, GBTRegressor, AFTSurvivalRegression, IsotonicRegression)\n",
    "from pyspark.mllib.evaluation import RegressionMetrics\n",
    "\n",
    "from pyspark.ml.tuning import ParamGridBuilder, CrossValidator, CrossValidatorModel\n",
    "from pyspark.ml.feature import VectorAssembler, StandardScaler\n",
    "from pyspark.ml.evaluation import RegressionEvaluator\n",
    "from pyspark.ml.linalg import DenseVector"
   ]
  },
  {
   "cell_type": "code",
   "execution_count": 8,
   "metadata": {},
   "outputs": [],
   "source": [
    "# Visualization\n",
    "\n",
    "import seaborn as sns\n",
    "import matplotlib.pyplot as plt\n",
    "\n",
    "from IPython.core.interactiveshell import InteractiveShell\n",
    "InteractiveShell.ast_node_interactivity = \"all\"\n",
    "\n",
    "pd.set_option('display.max_columns', 200)\n",
    "pd.set_option('display.max_colwidth', 400)\n",
    "\n",
    "from matplotlib import rcParams\n",
    "sns.set(context='notebook', style='whitegrid', rc={'figure.figsize': (18,4)})\n",
    "rcParams['figure.figsize'] = 18,4\n",
    "\n",
    "%matplotlib inline\n",
    "%config InlineBackend.figure_format = 'retina'"
   ]
  },
  {
   "cell_type": "code",
   "execution_count": 9,
   "metadata": {},
   "outputs": [
    {
     "data": {
      "text/plain": [
       "<pyspark.sql.context.SQLContext at 0x1be3e4e3978>"
      ]
     },
     "execution_count": 9,
     "metadata": {},
     "output_type": "execute_result"
    }
   ],
   "source": [
    "sqlContext = SQLContext(spark.sparkContext)\n",
    "sqlContext"
   ]
  },
  {
   "cell_type": "markdown",
   "metadata": {},
   "source": [
    "Specifying the schema when loading data into a DataFrame will give better performance than schema inference."
   ]
  },
  {
   "cell_type": "code",
   "execution_count": 10,
   "metadata": {},
   "outputs": [],
   "source": [
    "# define the schema, corresponding to a line in the csv data file.\n",
    "schema = StructType([\n",
    "    StructField(\"long\", FloatType(), nullable=True),\n",
    "    StructField(\"lat\", FloatType(), nullable=True),\n",
    "    StructField(\"medage\", FloatType(), nullable=True),\n",
    "    StructField(\"totrooms\", FloatType(), nullable=True),\n",
    "    StructField(\"totbdrms\", FloatType(), nullable=True),\n",
    "    StructField(\"pop\", FloatType(), nullable=True),\n",
    "    StructField(\"houshlds\", FloatType(), nullable=True),\n",
    "    StructField(\"medinc\", FloatType(), nullable=True),\n",
    "    StructField(\"medhv\", FloatType(), nullable=True)]\n",
    ")"
   ]
  },
  {
   "cell_type": "code",
   "execution_count": 11,
   "metadata": {},
   "outputs": [],
   "source": [
    "# Load housing data\n",
    "housing_df = spark.read.csv(path='cal_housing.data', schema=schema).cache()"
   ]
  },
  {
   "cell_type": "markdown",
   "metadata": {},
   "source": [
    "<a id=\"3\"></a> <br>\n",
    "## Data exploration"
   ]
  },
  {
   "cell_type": "code",
   "execution_count": 183,
   "metadata": {},
   "outputs": [
    {
     "data": {
      "text/html": [
       "<div>\n",
       "<style scoped>\n",
       "    .dataframe tbody tr th:only-of-type {\n",
       "        vertical-align: middle;\n",
       "    }\n",
       "\n",
       "    .dataframe tbody tr th {\n",
       "        vertical-align: top;\n",
       "    }\n",
       "\n",
       "    .dataframe thead th {\n",
       "        text-align: right;\n",
       "    }\n",
       "</style>\n",
       "<table border=\"1\" class=\"dataframe\">\n",
       "  <thead>\n",
       "    <tr style=\"text-align: right;\">\n",
       "      <th></th>\n",
       "      <th>long</th>\n",
       "      <th>lat</th>\n",
       "      <th>medage</th>\n",
       "      <th>totrooms</th>\n",
       "      <th>totbdrms</th>\n",
       "      <th>pop</th>\n",
       "      <th>houshlds</th>\n",
       "      <th>medinc</th>\n",
       "      <th>medhv</th>\n",
       "    </tr>\n",
       "  </thead>\n",
       "  <tbody>\n",
       "    <tr>\n",
       "      <th>0</th>\n",
       "      <td>-119.790001</td>\n",
       "      <td>36.720001</td>\n",
       "      <td>41.0</td>\n",
       "      <td>1562.0</td>\n",
       "      <td>322.0</td>\n",
       "      <td>927.0</td>\n",
       "      <td>277.0</td>\n",
       "      <td>1.3047</td>\n",
       "      <td>44100.0</td>\n",
       "    </tr>\n",
       "    <tr>\n",
       "      <th>1</th>\n",
       "      <td>-118.449997</td>\n",
       "      <td>34.049999</td>\n",
       "      <td>28.0</td>\n",
       "      <td>801.0</td>\n",
       "      <td>399.0</td>\n",
       "      <td>936.0</td>\n",
       "      <td>406.0</td>\n",
       "      <td>2.1875</td>\n",
       "      <td>181300.0</td>\n",
       "    </tr>\n",
       "    <tr>\n",
       "      <th>2</th>\n",
       "      <td>-118.110001</td>\n",
       "      <td>33.910000</td>\n",
       "      <td>36.0</td>\n",
       "      <td>1088.0</td>\n",
       "      <td>231.0</td>\n",
       "      <td>617.0</td>\n",
       "      <td>211.0</td>\n",
       "      <td>3.8824</td>\n",
       "      <td>193100.0</td>\n",
       "    </tr>\n",
       "    <tr>\n",
       "      <th>3</th>\n",
       "      <td>-116.760002</td>\n",
       "      <td>33.459999</td>\n",
       "      <td>6.0</td>\n",
       "      <td>1251.0</td>\n",
       "      <td>268.0</td>\n",
       "      <td>544.0</td>\n",
       "      <td>216.0</td>\n",
       "      <td>3.0694</td>\n",
       "      <td>173400.0</td>\n",
       "    </tr>\n",
       "    <tr>\n",
       "      <th>4</th>\n",
       "      <td>-117.059998</td>\n",
       "      <td>32.680000</td>\n",
       "      <td>38.0</td>\n",
       "      <td>1481.0</td>\n",
       "      <td>317.0</td>\n",
       "      <td>1080.0</td>\n",
       "      <td>291.0</td>\n",
       "      <td>2.8500</td>\n",
       "      <td>125800.0</td>\n",
       "    </tr>\n",
       "    <tr>\n",
       "      <th>5</th>\n",
       "      <td>-117.129997</td>\n",
       "      <td>32.709999</td>\n",
       "      <td>35.0</td>\n",
       "      <td>614.0</td>\n",
       "      <td>180.0</td>\n",
       "      <td>691.0</td>\n",
       "      <td>164.0</td>\n",
       "      <td>1.6953</td>\n",
       "      <td>81300.0</td>\n",
       "    </tr>\n",
       "    <tr>\n",
       "      <th>6</th>\n",
       "      <td>-116.940002</td>\n",
       "      <td>32.810001</td>\n",
       "      <td>8.0</td>\n",
       "      <td>2517.0</td>\n",
       "      <td>632.0</td>\n",
       "      <td>1686.0</td>\n",
       "      <td>613.0</td>\n",
       "      <td>2.1360</td>\n",
       "      <td>143500.0</td>\n",
       "    </tr>\n",
       "    <tr>\n",
       "      <th>7</th>\n",
       "      <td>-122.349998</td>\n",
       "      <td>40.560001</td>\n",
       "      <td>16.0</td>\n",
       "      <td>2801.0</td>\n",
       "      <td>614.0</td>\n",
       "      <td>1695.0</td>\n",
       "      <td>563.0</td>\n",
       "      <td>1.9000</td>\n",
       "      <td>81600.0</td>\n",
       "    </tr>\n",
       "    <tr>\n",
       "      <th>8</th>\n",
       "      <td>-120.279999</td>\n",
       "      <td>38.029999</td>\n",
       "      <td>13.0</td>\n",
       "      <td>2095.0</td>\n",
       "      <td>391.0</td>\n",
       "      <td>860.0</td>\n",
       "      <td>331.0</td>\n",
       "      <td>3.6838</td>\n",
       "      <td>145700.0</td>\n",
       "    </tr>\n",
       "  </tbody>\n",
       "</table>\n",
       "</div>"
      ],
      "text/plain": [
       "         long        lat  medage  totrooms  totbdrms     pop  houshlds  \\\n",
       "0 -119.790001  36.720001    41.0    1562.0     322.0   927.0     277.0   \n",
       "1 -118.449997  34.049999    28.0     801.0     399.0   936.0     406.0   \n",
       "2 -118.110001  33.910000    36.0    1088.0     231.0   617.0     211.0   \n",
       "3 -116.760002  33.459999     6.0    1251.0     268.0   544.0     216.0   \n",
       "4 -117.059998  32.680000    38.0    1481.0     317.0  1080.0     291.0   \n",
       "5 -117.129997  32.709999    35.0     614.0     180.0   691.0     164.0   \n",
       "6 -116.940002  32.810001     8.0    2517.0     632.0  1686.0     613.0   \n",
       "7 -122.349998  40.560001    16.0    2801.0     614.0  1695.0     563.0   \n",
       "8 -120.279999  38.029999    13.0    2095.0     391.0   860.0     331.0   \n",
       "\n",
       "   medinc     medhv  \n",
       "0  1.3047   44100.0  \n",
       "1  2.1875  181300.0  \n",
       "2  3.8824  193100.0  \n",
       "3  3.0694  173400.0  \n",
       "4  2.8500  125800.0  \n",
       "5  1.6953   81300.0  \n",
       "6  2.1360  143500.0  \n",
       "7  1.9000   81600.0  \n",
       "8  3.6838  145700.0  "
      ]
     },
     "execution_count": 183,
     "metadata": {},
     "output_type": "execute_result"
    }
   ],
   "source": [
    "housing_df.sample(False, 0.0005, 1234).toPandas()"
   ]
  },
  {
   "cell_type": "code",
   "execution_count": 20,
   "metadata": {},
   "outputs": [
    {
     "data": {
      "text/plain": [
       "['long',\n",
       " 'lat',\n",
       " 'medage',\n",
       " 'totrooms',\n",
       " 'totbdrms',\n",
       " 'pop',\n",
       " 'houshlds',\n",
       " 'medinc',\n",
       " 'medhv']"
      ]
     },
     "execution_count": 20,
     "metadata": {},
     "output_type": "execute_result"
    }
   ],
   "source": [
    "# show the dataframe columns\n",
    "housing_df.columns"
   ]
  },
  {
   "cell_type": "code",
   "execution_count": 21,
   "metadata": {},
   "outputs": [
    {
     "name": "stdout",
     "output_type": "stream",
     "text": [
      "root\n",
      " |-- long: float (nullable = true)\n",
      " |-- lat: float (nullable = true)\n",
      " |-- medage: float (nullable = true)\n",
      " |-- totrooms: float (nullable = true)\n",
      " |-- totbdrms: float (nullable = true)\n",
      " |-- pop: float (nullable = true)\n",
      " |-- houshlds: float (nullable = true)\n",
      " |-- medinc: float (nullable = true)\n",
      " |-- medhv: float (nullable = true)\n",
      "\n"
     ]
    }
   ],
   "source": [
    "# show the schema of the dataframe\n",
    "housing_df.printSchema()"
   ]
  },
  {
   "cell_type": "markdown",
   "metadata": {},
   "source": [
    "Let's group by housingmedianage and see the distribution :"
   ]
  },
  {
   "cell_type": "code",
   "execution_count": 25,
   "metadata": {},
   "outputs": [
    {
     "name": "stdout",
     "output_type": "stream",
     "text": [
      "+------+-----+\n",
      "|medage|count|\n",
      "+------+-----+\n",
      "|  52.0| 1273|\n",
      "|  51.0|   48|\n",
      "|  50.0|  136|\n",
      "|  49.0|  134|\n",
      "|  48.0|  177|\n",
      "|  47.0|  198|\n",
      "|  46.0|  245|\n",
      "|  45.0|  294|\n",
      "|  44.0|  356|\n",
      "|  43.0|  353|\n",
      "|  42.0|  368|\n",
      "|  41.0|  296|\n",
      "|  40.0|  304|\n",
      "|  39.0|  369|\n",
      "|  38.0|  394|\n",
      "+------+-----+\n",
      "only showing top 15 rows\n",
      "\n"
     ]
    }
   ],
   "source": [
    "result1 = housing_df.groupBy('medage').count().sort(\"medage\", ascending = False)\n",
    "result1.show(15)"
   ]
  },
  {
   "cell_type": "code",
   "execution_count": 30,
   "metadata": {},
   "outputs": [
    {
     "data": {
      "image/png": "[encoded data removed]",
      "text/plain": [
       "<Figure size 1440x432 with 1 Axes>"
      ]
     },
     "metadata": {
      "image/png": {
       "height": 386,
       "width": 1164
      },
      "needs_background": "light"
     },
     "output_type": "display_data"
    }
   ],
   "source": [
    "result1.toPandas().plot.bar(\"medage\", figsize= (20,6));"
   ]
  },
  {
   "cell_type": "markdown",
   "metadata": {},
   "source": [
    "Most of the residents are either in their youth or they settle here during their senior years (52). Some data are showing median age < 10 which seems to be out of place."
   ]
  },
  {
   "cell_type": "markdown",
   "metadata": {},
   "source": [
    "Let's quicly visualize some statistics, Spark DataFrames include some built-in functions for statistical processing. The describe() function performs summary statistics calculations on all numeric columns and returns them as a DataFrame."
   ]
  },
  {
   "cell_type": "code",
   "execution_count": 34,
   "metadata": {},
   "outputs": [
    {
     "data": {
      "text/html": [
       "<div>\n",
       "<style scoped>\n",
       "    .dataframe tbody tr th:only-of-type {\n",
       "        vertical-align: middle;\n",
       "    }\n",
       "\n",
       "    .dataframe tbody tr th {\n",
       "        vertical-align: top;\n",
       "    }\n",
       "\n",
       "    .dataframe thead th {\n",
       "        text-align: right;\n",
       "    }\n",
       "</style>\n",
       "<table border=\"1\" class=\"dataframe\">\n",
       "  <thead>\n",
       "    <tr style=\"text-align: right;\">\n",
       "      <th></th>\n",
       "      <th>summary</th>\n",
       "      <th>long</th>\n",
       "      <th>lat</th>\n",
       "      <th>medage</th>\n",
       "      <th>totrooms</th>\n",
       "      <th>totbdrms</th>\n",
       "      <th>pop</th>\n",
       "      <th>houshlds</th>\n",
       "      <th>medinc</th>\n",
       "      <th>medhv</th>\n",
       "    </tr>\n",
       "  </thead>\n",
       "  <tbody>\n",
       "    <tr>\n",
       "      <th>0</th>\n",
       "      <td>count</td>\n",
       "      <td>20640</td>\n",
       "      <td>20640</td>\n",
       "      <td>20640</td>\n",
       "      <td>20640</td>\n",
       "      <td>20640</td>\n",
       "      <td>20640</td>\n",
       "      <td>20640</td>\n",
       "      <td>20640</td>\n",
       "      <td>20640</td>\n",
       "    </tr>\n",
       "    <tr>\n",
       "      <th>1</th>\n",
       "      <td>mean</td>\n",
       "      <td>-119.56970444871473</td>\n",
       "      <td>35.63186143109965</td>\n",
       "      <td>28.639486434108527</td>\n",
       "      <td>2635.7630813953488</td>\n",
       "      <td>537.8980135658915</td>\n",
       "      <td>1425.4767441860465</td>\n",
       "      <td>499.5396802325581</td>\n",
       "      <td>3.8706710030346416</td>\n",
       "      <td>206855.81690891474</td>\n",
       "    </tr>\n",
       "    <tr>\n",
       "      <th>2</th>\n",
       "      <td>stddev</td>\n",
       "      <td>2.003531742932898</td>\n",
       "      <td>2.135952380602968</td>\n",
       "      <td>12.58555761211163</td>\n",
       "      <td>2181.6152515827944</td>\n",
       "      <td>421.247905943133</td>\n",
       "      <td>1132.46212176534</td>\n",
       "      <td>382.3297528316098</td>\n",
       "      <td>1.8998217183639696</td>\n",
       "      <td>115395.61587441359</td>\n",
       "    </tr>\n",
       "    <tr>\n",
       "      <th>3</th>\n",
       "      <td>min</td>\n",
       "      <td>-124.35</td>\n",
       "      <td>32.54</td>\n",
       "      <td>1.0</td>\n",
       "      <td>2.0</td>\n",
       "      <td>1.0</td>\n",
       "      <td>3.0</td>\n",
       "      <td>1.0</td>\n",
       "      <td>0.4999</td>\n",
       "      <td>14999.0</td>\n",
       "    </tr>\n",
       "    <tr>\n",
       "      <th>4</th>\n",
       "      <td>max</td>\n",
       "      <td>-114.31</td>\n",
       "      <td>41.95</td>\n",
       "      <td>52.0</td>\n",
       "      <td>39320.0</td>\n",
       "      <td>6445.0</td>\n",
       "      <td>35682.0</td>\n",
       "      <td>6082.0</td>\n",
       "      <td>15.0001</td>\n",
       "      <td>500001.0</td>\n",
       "    </tr>\n",
       "  </tbody>\n",
       "</table>\n",
       "</div>"
      ],
      "text/plain": [
       "  summary                 long                lat              medage  \\\n",
       "0   count                20640              20640               20640   \n",
       "1    mean  -119.56970444871473  35.63186143109965  28.639486434108527   \n",
       "2  stddev    2.003531742932898  2.135952380602968   12.58555761211163   \n",
       "3     min              -124.35              32.54                 1.0   \n",
       "4     max              -114.31              41.95                52.0   \n",
       "\n",
       "             totrooms           totbdrms                 pop  \\\n",
       "0               20640              20640               20640   \n",
       "1  2635.7630813953488  537.8980135658915  1425.4767441860465   \n",
       "2  2181.6152515827944   421.247905943133    1132.46212176534   \n",
       "3                 2.0                1.0                 3.0   \n",
       "4             39320.0             6445.0             35682.0   \n",
       "\n",
       "            houshlds              medinc               medhv  \n",
       "0              20640               20640               20640  \n",
       "1  499.5396802325581  3.8706710030346416  206855.81690891474  \n",
       "2  382.3297528316098  1.8998217183639696  115395.61587441359  \n",
       "3                1.0              0.4999             14999.0  \n",
       "4             6082.0             15.0001            500001.0  "
      ]
     },
     "execution_count": 34,
     "metadata": {},
     "output_type": "execute_result"
    }
   ],
   "source": [
    "housing_df.describe().toPandas()"
   ]
  },
  {
   "cell_type": "markdown",
   "metadata": {},
   "source": [
    "When we Look at the minimum and maximum values of all the (numerical) attributes. We can see that multiple attributes (like totrooms/totbdrms/pop/houshlds and so on) have a wide range of values. That certainly means that we will need to normalize your dataset."
   ]
  },
  {
   "cell_type": "markdown",
   "metadata": {},
   "source": [
    "<a id=\"4\"></a> <br>\n",
    "##  Data Preprocessing\n",
    "With all this information that we gathered from our small exploratory data analysis, we know enough to preprocess our data to feed it to the model.\n",
    "\n",
    "- we shouldn't care about missing values; all zero values have been excluded from the data set.\n",
    "- We should probably standardize our data, as we have seen that the range of minimum and maximum values is quite big.\n",
    "- There are possibly some additional attributes that we could add, such as a feature that registers the number of bedrooms per room or the rooms per household.\n",
    "- Our dependent variable is also quite big; To make our life easier, we'll have to adjust the values slightly."
   ]
  },
  {
   "cell_type": "code",
   "execution_count": 69,
   "metadata": {},
   "outputs": [],
   "source": [
    "#adjust the values of medianhousevalue the target variable\n",
    "\n",
    "housing_df = housing_df.withColumn('medhv', col('medhv')/100000)"
   ]
  },
  {
   "cell_type": "code",
   "execution_count": 13,
   "metadata": {},
   "outputs": [
    {
     "name": "stdout",
     "output_type": "stream",
     "text": [
      "+-------+-----+------+--------+--------+------+--------+------+-----+\n",
      "|   long|  lat|medage|totrooms|totbdrms|   pop|houshlds|medinc|medhv|\n",
      "+-------+-----+------+--------+--------+------+--------+------+-----+\n",
      "|-122.23|37.88|  41.0|   880.0|   129.0| 322.0|   126.0|8.3252|4.526|\n",
      "|-122.22|37.86|  21.0|  7099.0|  1106.0|2401.0|  1138.0|8.3014|3.585|\n",
      "|-122.24|37.85|  52.0|  1467.0|   190.0| 496.0|   177.0|7.2574|3.521|\n",
      "|-122.25|37.85|  52.0|  1274.0|   235.0| 558.0|   219.0|5.6431|3.413|\n",
      "|-122.25|37.85|  52.0|  1627.0|   280.0| 565.0|   259.0|3.8462|3.422|\n",
      "+-------+-----+------+--------+--------+------+--------+------+-----+\n",
      "only showing top 5 rows\n",
      "\n"
     ]
    }
   ],
   "source": [
    "housing_df.show(5)"
   ]
  },
  {
   "cell_type": "markdown",
   "metadata": {},
   "source": [
    "We can clearly see that the values have been adjusted correctly when we look at the result of the show() method:"
   ]
  },
  {
   "cell_type": "markdown",
   "metadata": {},
   "source": [
    "<a id=\"5\"></a> <br>\n",
    "## Feature Engineering\n",
    "Now that we have adjusted the values in medianHouseValue, we will now add the following columns to the data set:\n",
    "\n",
    "Rooms per household which refers to the number of rooms in households per block group;\n",
    "\n",
    "Population per household, which basically gives us an indication of how many people live in households per block group; And\n",
    "\n",
    "Bedrooms per room which will give us an idea about how many rooms are bedrooms per block group;"
   ]
  },
  {
   "cell_type": "code",
   "execution_count": 37,
   "metadata": {},
   "outputs": [
    {
     "data": {
      "text/plain": [
       "['long',\n",
       " 'lat',\n",
       " 'medage',\n",
       " 'totrooms',\n",
       " 'totbdrms',\n",
       " 'pop',\n",
       " 'houshlds',\n",
       " 'medinc',\n",
       " 'medhv']"
      ]
     },
     "execution_count": 37,
     "metadata": {},
     "output_type": "execute_result"
    }
   ],
   "source": [
    "housing_df.columns"
   ]
  },
  {
   "cell_type": "code",
   "execution_count": 14,
   "metadata": {},
   "outputs": [],
   "source": [
    "housing_df = (housing_df.withColumn(\"roomsperhousehold\", F.round(col(\"totrooms\")/col('houshlds'),2))\n",
    "                        .withColumn(\"popperhousehold\", F.round(col('pop')/col('houshlds'),2))\n",
    "                        .withColumn(\"bedroomsperroom\", F.round(col('totbdrms')/col('totrooms'),2)))"
   ]
  },
  {
   "cell_type": "code",
   "execution_count": 44,
   "metadata": {},
   "outputs": [
    {
     "data": {
      "text/html": [
       "<div>\n",
       "<style scoped>\n",
       "    .dataframe tbody tr th:only-of-type {\n",
       "        vertical-align: middle;\n",
       "    }\n",
       "\n",
       "    .dataframe tbody tr th {\n",
       "        vertical-align: top;\n",
       "    }\n",
       "\n",
       "    .dataframe thead th {\n",
       "        text-align: right;\n",
       "    }\n",
       "</style>\n",
       "<table border=\"1\" class=\"dataframe\">\n",
       "  <thead>\n",
       "    <tr style=\"text-align: right;\">\n",
       "      <th></th>\n",
       "      <th>long</th>\n",
       "      <th>lat</th>\n",
       "      <th>medage</th>\n",
       "      <th>totrooms</th>\n",
       "      <th>totbdrms</th>\n",
       "      <th>pop</th>\n",
       "      <th>houshlds</th>\n",
       "      <th>medinc</th>\n",
       "      <th>medhv</th>\n",
       "      <th>roomsperhousehold</th>\n",
       "      <th>popperhousehold</th>\n",
       "      <th>bedroomsperroom</th>\n",
       "    </tr>\n",
       "  </thead>\n",
       "  <tbody>\n",
       "    <tr>\n",
       "      <th>0</th>\n",
       "      <td>-119.790001</td>\n",
       "      <td>36.720001</td>\n",
       "      <td>41.0</td>\n",
       "      <td>1562.0</td>\n",
       "      <td>322.0</td>\n",
       "      <td>927.0</td>\n",
       "      <td>277.0</td>\n",
       "      <td>1.3047</td>\n",
       "      <td>0.441</td>\n",
       "      <td>5.64</td>\n",
       "      <td>3.35</td>\n",
       "      <td>0.21</td>\n",
       "    </tr>\n",
       "    <tr>\n",
       "      <th>1</th>\n",
       "      <td>-118.449997</td>\n",
       "      <td>34.049999</td>\n",
       "      <td>28.0</td>\n",
       "      <td>801.0</td>\n",
       "      <td>399.0</td>\n",
       "      <td>936.0</td>\n",
       "      <td>406.0</td>\n",
       "      <td>2.1875</td>\n",
       "      <td>1.813</td>\n",
       "      <td>1.97</td>\n",
       "      <td>2.31</td>\n",
       "      <td>0.50</td>\n",
       "    </tr>\n",
       "    <tr>\n",
       "      <th>2</th>\n",
       "      <td>-118.110001</td>\n",
       "      <td>33.910000</td>\n",
       "      <td>36.0</td>\n",
       "      <td>1088.0</td>\n",
       "      <td>231.0</td>\n",
       "      <td>617.0</td>\n",
       "      <td>211.0</td>\n",
       "      <td>3.8824</td>\n",
       "      <td>1.931</td>\n",
       "      <td>5.16</td>\n",
       "      <td>2.92</td>\n",
       "      <td>0.21</td>\n",
       "    </tr>\n",
       "    <tr>\n",
       "      <th>3</th>\n",
       "      <td>-116.760002</td>\n",
       "      <td>33.459999</td>\n",
       "      <td>6.0</td>\n",
       "      <td>1251.0</td>\n",
       "      <td>268.0</td>\n",
       "      <td>544.0</td>\n",
       "      <td>216.0</td>\n",
       "      <td>3.0694</td>\n",
       "      <td>1.734</td>\n",
       "      <td>5.79</td>\n",
       "      <td>2.52</td>\n",
       "      <td>0.21</td>\n",
       "    </tr>\n",
       "    <tr>\n",
       "      <th>4</th>\n",
       "      <td>-117.059998</td>\n",
       "      <td>32.680000</td>\n",
       "      <td>38.0</td>\n",
       "      <td>1481.0</td>\n",
       "      <td>317.0</td>\n",
       "      <td>1080.0</td>\n",
       "      <td>291.0</td>\n",
       "      <td>2.8500</td>\n",
       "      <td>1.258</td>\n",
       "      <td>5.09</td>\n",
       "      <td>3.71</td>\n",
       "      <td>0.21</td>\n",
       "    </tr>\n",
       "    <tr>\n",
       "      <th>5</th>\n",
       "      <td>-117.129997</td>\n",
       "      <td>32.709999</td>\n",
       "      <td>35.0</td>\n",
       "      <td>614.0</td>\n",
       "      <td>180.0</td>\n",
       "      <td>691.0</td>\n",
       "      <td>164.0</td>\n",
       "      <td>1.6953</td>\n",
       "      <td>0.813</td>\n",
       "      <td>3.74</td>\n",
       "      <td>4.21</td>\n",
       "      <td>0.29</td>\n",
       "    </tr>\n",
       "    <tr>\n",
       "      <th>6</th>\n",
       "      <td>-116.940002</td>\n",
       "      <td>32.810001</td>\n",
       "      <td>8.0</td>\n",
       "      <td>2517.0</td>\n",
       "      <td>632.0</td>\n",
       "      <td>1686.0</td>\n",
       "      <td>613.0</td>\n",
       "      <td>2.1360</td>\n",
       "      <td>1.435</td>\n",
       "      <td>4.11</td>\n",
       "      <td>2.75</td>\n",
       "      <td>0.25</td>\n",
       "    </tr>\n",
       "    <tr>\n",
       "      <th>7</th>\n",
       "      <td>-122.349998</td>\n",
       "      <td>40.560001</td>\n",
       "      <td>16.0</td>\n",
       "      <td>2801.0</td>\n",
       "      <td>614.0</td>\n",
       "      <td>1695.0</td>\n",
       "      <td>563.0</td>\n",
       "      <td>1.9000</td>\n",
       "      <td>0.816</td>\n",
       "      <td>4.98</td>\n",
       "      <td>3.01</td>\n",
       "      <td>0.22</td>\n",
       "    </tr>\n",
       "    <tr>\n",
       "      <th>8</th>\n",
       "      <td>-120.279999</td>\n",
       "      <td>38.029999</td>\n",
       "      <td>13.0</td>\n",
       "      <td>2095.0</td>\n",
       "      <td>391.0</td>\n",
       "      <td>860.0</td>\n",
       "      <td>331.0</td>\n",
       "      <td>3.6838</td>\n",
       "      <td>1.457</td>\n",
       "      <td>6.33</td>\n",
       "      <td>2.60</td>\n",
       "      <td>0.19</td>\n",
       "    </tr>\n",
       "  </tbody>\n",
       "</table>\n",
       "</div>"
      ],
      "text/plain": [
       "         long        lat  medage  totrooms  totbdrms     pop  houshlds  \\\n",
       "0 -119.790001  36.720001    41.0    1562.0     322.0   927.0     277.0   \n",
       "1 -118.449997  34.049999    28.0     801.0     399.0   936.0     406.0   \n",
       "2 -118.110001  33.910000    36.0    1088.0     231.0   617.0     211.0   \n",
       "3 -116.760002  33.459999     6.0    1251.0     268.0   544.0     216.0   \n",
       "4 -117.059998  32.680000    38.0    1481.0     317.0  1080.0     291.0   \n",
       "5 -117.129997  32.709999    35.0     614.0     180.0   691.0     164.0   \n",
       "6 -116.940002  32.810001     8.0    2517.0     632.0  1686.0     613.0   \n",
       "7 -122.349998  40.560001    16.0    2801.0     614.0  1695.0     563.0   \n",
       "8 -120.279999  38.029999    13.0    2095.0     391.0   860.0     331.0   \n",
       "\n",
       "   medinc  medhv  roomsperhousehold  popperhousehold  bedroomsperroom  \n",
       "0  1.3047  0.441               5.64             3.35             0.21  \n",
       "1  2.1875  1.813               1.97             2.31             0.50  \n",
       "2  3.8824  1.931               5.16             2.92             0.21  \n",
       "3  3.0694  1.734               5.79             2.52             0.21  \n",
       "4  2.8500  1.258               5.09             3.71             0.21  \n",
       "5  1.6953  0.813               3.74             4.21             0.29  \n",
       "6  2.1360  1.435               4.11             2.75             0.25  \n",
       "7  1.9000  0.816               4.98             3.01             0.22  \n",
       "8  3.6838  1.457               6.33             2.60             0.19  "
      ]
     },
     "execution_count": 44,
     "metadata": {},
     "output_type": "execute_result"
    }
   ],
   "source": [
    "housing_df.sample(False, 0.0005, 1234).toPandas()"
   ]
  },
  {
   "cell_type": "markdown",
   "metadata": {},
   "source": [
    "We can see that, for the first row, there are about 5.64 rooms per household, the households in the block group consist of about 3.35 people and the amount of bedrooms is quite low with 0.21.\n",
    "\n",
    "Since we don't want to necessarily standardize our target values, we'll want to make sure to isolate those in our data set. Note also that this is the time to leave out variables that we might not want to consider in our analysis. In this case, let's leave out variables such as longitude, latitude, housingMedianAge and totalRooms.\n",
    "\n",
    "In this case, we will use the select() method and passing the column names in the order that is more appropriate. In this case, the target variable medianHouseValue is put first, so that it won't be affected by the standardization."
   ]
  },
  {
   "cell_type": "code",
   "execution_count": 18,
   "metadata": {},
   "outputs": [],
   "source": [
    "housing_df = housing_df.select(\"medhv\", \n",
    "                  \"totbdrms\", \n",
    "                  \"pop\", \n",
    "                  \"houshlds\", \n",
    "                  \"medinc\", \n",
    "                  \"roomsperhousehold\", \n",
    "                  \"popperhousehold\", \n",
    "                  \"bedroomsperroom\")"
   ]
  },
  {
   "cell_type": "code",
   "execution_count": 19,
   "metadata": {},
   "outputs": [
    {
     "data": {
      "text/html": [
       "<div>\n",
       "<style scoped>\n",
       "    .dataframe tbody tr th:only-of-type {\n",
       "        vertical-align: middle;\n",
       "    }\n",
       "\n",
       "    .dataframe tbody tr th {\n",
       "        vertical-align: top;\n",
       "    }\n",
       "\n",
       "    .dataframe thead th {\n",
       "        text-align: right;\n",
       "    }\n",
       "</style>\n",
       "<table border=\"1\" class=\"dataframe\">\n",
       "  <thead>\n",
       "    <tr style=\"text-align: right;\">\n",
       "      <th></th>\n",
       "      <th>medhv</th>\n",
       "      <th>totbdrms</th>\n",
       "      <th>pop</th>\n",
       "      <th>houshlds</th>\n",
       "      <th>medinc</th>\n",
       "      <th>roomsperhousehold</th>\n",
       "      <th>popperhousehold</th>\n",
       "      <th>bedroomsperroom</th>\n",
       "    </tr>\n",
       "  </thead>\n",
       "  <tbody>\n",
       "    <tr>\n",
       "      <th>0</th>\n",
       "      <td>0.441</td>\n",
       "      <td>322.0</td>\n",
       "      <td>927.0</td>\n",
       "      <td>277.0</td>\n",
       "      <td>1.3047</td>\n",
       "      <td>5.64</td>\n",
       "      <td>3.35</td>\n",
       "      <td>0.21</td>\n",
       "    </tr>\n",
       "    <tr>\n",
       "      <th>1</th>\n",
       "      <td>1.813</td>\n",
       "      <td>399.0</td>\n",
       "      <td>936.0</td>\n",
       "      <td>406.0</td>\n",
       "      <td>2.1875</td>\n",
       "      <td>1.97</td>\n",
       "      <td>2.31</td>\n",
       "      <td>0.50</td>\n",
       "    </tr>\n",
       "    <tr>\n",
       "      <th>2</th>\n",
       "      <td>1.931</td>\n",
       "      <td>231.0</td>\n",
       "      <td>617.0</td>\n",
       "      <td>211.0</td>\n",
       "      <td>3.8824</td>\n",
       "      <td>5.16</td>\n",
       "      <td>2.92</td>\n",
       "      <td>0.21</td>\n",
       "    </tr>\n",
       "    <tr>\n",
       "      <th>3</th>\n",
       "      <td>1.734</td>\n",
       "      <td>268.0</td>\n",
       "      <td>544.0</td>\n",
       "      <td>216.0</td>\n",
       "      <td>3.0694</td>\n",
       "      <td>5.79</td>\n",
       "      <td>2.52</td>\n",
       "      <td>0.21</td>\n",
       "    </tr>\n",
       "    <tr>\n",
       "      <th>4</th>\n",
       "      <td>1.258</td>\n",
       "      <td>317.0</td>\n",
       "      <td>1080.0</td>\n",
       "      <td>291.0</td>\n",
       "      <td>2.8500</td>\n",
       "      <td>5.09</td>\n",
       "      <td>3.71</td>\n",
       "      <td>0.21</td>\n",
       "    </tr>\n",
       "    <tr>\n",
       "      <th>5</th>\n",
       "      <td>0.813</td>\n",
       "      <td>180.0</td>\n",
       "      <td>691.0</td>\n",
       "      <td>164.0</td>\n",
       "      <td>1.6953</td>\n",
       "      <td>3.74</td>\n",
       "      <td>4.21</td>\n",
       "      <td>0.29</td>\n",
       "    </tr>\n",
       "    <tr>\n",
       "      <th>6</th>\n",
       "      <td>1.435</td>\n",
       "      <td>632.0</td>\n",
       "      <td>1686.0</td>\n",
       "      <td>613.0</td>\n",
       "      <td>2.1360</td>\n",
       "      <td>4.11</td>\n",
       "      <td>2.75</td>\n",
       "      <td>0.25</td>\n",
       "    </tr>\n",
       "    <tr>\n",
       "      <th>7</th>\n",
       "      <td>0.816</td>\n",
       "      <td>614.0</td>\n",
       "      <td>1695.0</td>\n",
       "      <td>563.0</td>\n",
       "      <td>1.9000</td>\n",
       "      <td>4.98</td>\n",
       "      <td>3.01</td>\n",
       "      <td>0.22</td>\n",
       "    </tr>\n",
       "    <tr>\n",
       "      <th>8</th>\n",
       "      <td>1.457</td>\n",
       "      <td>391.0</td>\n",
       "      <td>860.0</td>\n",
       "      <td>331.0</td>\n",
       "      <td>3.6838</td>\n",
       "      <td>6.33</td>\n",
       "      <td>2.60</td>\n",
       "      <td>0.19</td>\n",
       "    </tr>\n",
       "  </tbody>\n",
       "</table>\n",
       "</div>"
      ],
      "text/plain": [
       "   medhv  totbdrms     pop  houshlds  medinc  roomsperhousehold  \\\n",
       "0  0.441     322.0   927.0     277.0  1.3047               5.64   \n",
       "1  1.813     399.0   936.0     406.0  2.1875               1.97   \n",
       "2  1.931     231.0   617.0     211.0  3.8824               5.16   \n",
       "3  1.734     268.0   544.0     216.0  3.0694               5.79   \n",
       "4  1.258     317.0  1080.0     291.0  2.8500               5.09   \n",
       "5  0.813     180.0   691.0     164.0  1.6953               3.74   \n",
       "6  1.435     632.0  1686.0     613.0  2.1360               4.11   \n",
       "7  0.816     614.0  1695.0     563.0  1.9000               4.98   \n",
       "8  1.457     391.0   860.0     331.0  3.6838               6.33   \n",
       "\n",
       "   popperhousehold  bedroomsperroom  \n",
       "0             3.35             0.21  \n",
       "1             2.31             0.50  \n",
       "2             2.92             0.21  \n",
       "3             2.52             0.21  \n",
       "4             3.71             0.21  \n",
       "5             4.21             0.29  \n",
       "6             2.75             0.25  \n",
       "7             3.01             0.22  \n",
       "8             2.60             0.19  "
      ]
     },
     "execution_count": 19,
     "metadata": {},
     "output_type": "execute_result"
    }
   ],
   "source": [
    "housing_df.sample(False, 0.0005, 1234).toPandas()"
   ]
  },
  {
   "cell_type": "code",
   "execution_count": 20,
   "metadata": {},
   "outputs": [
    {
     "name": "stdout",
     "output_type": "stream",
     "text": [
      "+-----+--------+------+--------+------+-----------------+---------------+---------------+\n",
      "|medhv|totbdrms|   pop|houshlds|medinc|roomsperhousehold|popperhousehold|bedroomsperroom|\n",
      "+-----+--------+------+--------+------+-----------------+---------------+---------------+\n",
      "|4.526|   129.0| 322.0|   126.0|8.3252|             6.98|           2.56|           0.15|\n",
      "|3.585|  1106.0|2401.0|  1138.0|8.3014|             6.24|           2.11|           0.16|\n",
      "|3.521|   190.0| 496.0|   177.0|7.2574|             8.29|            2.8|           0.13|\n",
      "|3.413|   235.0| 558.0|   219.0|5.6431|             5.82|           2.55|           0.18|\n",
      "|3.422|   280.0| 565.0|   259.0|3.8462|             6.28|           2.18|           0.17|\n",
      "+-----+--------+------+--------+------+-----------------+---------------+---------------+\n",
      "only showing top 5 rows\n",
      "\n"
     ]
    }
   ],
   "source": [
    "housing_df.show(5)"
   ]
  },
  {
   "cell_type": "markdown",
   "metadata": {},
   "source": [
    "<a id=\"6\"></a> <br>\n",
    "## Feature Extraction"
   ]
  },
  {
   "cell_type": "markdown",
   "metadata": {},
   "source": [
    "I will use DenseVector to put features into a feature vector column :"
   ]
  },
  {
   "cell_type": "code",
   "execution_count": 21,
   "metadata": {},
   "outputs": [],
   "source": [
    "def transfodata(df):\n",
    "    return df.rdd.map(lambda x : (x[0], DenseVector(x[1:]))).toDF(['label', 'features'])"
   ]
  },
  {
   "cell_type": "code",
   "execution_count": 22,
   "metadata": {},
   "outputs": [],
   "source": [
    "df = transfodata(housing_df)"
   ]
  },
  {
   "cell_type": "code",
   "execution_count": 23,
   "metadata": {},
   "outputs": [
    {
     "name": "stdout",
     "output_type": "stream",
     "text": [
      "+-----+--------------------+\n",
      "|label|            features|\n",
      "+-----+--------------------+\n",
      "|4.526|[129.0,322.0,126....|\n",
      "|3.585|[1106.0,2401.0,11...|\n",
      "|3.521|[190.0,496.0,177....|\n",
      "|3.413|[235.0,558.0,219....|\n",
      "|3.422|[280.0,565.0,259....|\n",
      "+-----+--------------------+\n",
      "only showing top 5 rows\n",
      "\n"
     ]
    }
   ],
   "source": [
    "df.show(5)"
   ]
  },
  {
   "cell_type": "markdown",
   "metadata": {},
   "source": [
    "Perfect, all the features have transformed into a Dense Vector"
   ]
  },
  {
   "cell_type": "markdown",
   "metadata": {},
   "source": [
    "<a id=\"7\"></a> <br>\n",
    "## Standardization"
   ]
  },
  {
   "cell_type": "markdown",
   "metadata": {},
   "source": [
    "Next, we can finally scale the data using StandardScaler. The input columns are the features, and the output column with the rescaled that will be included in the scaled_df will be named \"features_scaled\":"
   ]
  },
  {
   "cell_type": "code",
   "execution_count": 24,
   "metadata": {},
   "outputs": [],
   "source": [
    "scaler = StandardScaler(inputCol = \"features\", outputCol = \"featurescaled\")"
   ]
  },
  {
   "cell_type": "code",
   "execution_count": 25,
   "metadata": {},
   "outputs": [],
   "source": [
    "scaled_df = scaler.fit(df).transform(df)"
   ]
  },
  {
   "cell_type": "code",
   "execution_count": 26,
   "metadata": {},
   "outputs": [
    {
     "data": {
      "text/html": [
       "<div>\n",
       "<style scoped>\n",
       "    .dataframe tbody tr th:only-of-type {\n",
       "        vertical-align: middle;\n",
       "    }\n",
       "\n",
       "    .dataframe tbody tr th {\n",
       "        vertical-align: top;\n",
       "    }\n",
       "\n",
       "    .dataframe thead th {\n",
       "        text-align: right;\n",
       "    }\n",
       "</style>\n",
       "<table border=\"1\" class=\"dataframe\">\n",
       "  <thead>\n",
       "    <tr style=\"text-align: right;\">\n",
       "      <th></th>\n",
       "      <th>label</th>\n",
       "      <th>features</th>\n",
       "      <th>featurescaled</th>\n",
       "    </tr>\n",
       "  </thead>\n",
       "  <tbody>\n",
       "    <tr>\n",
       "      <th>0</th>\n",
       "      <td>0.441</td>\n",
       "      <td>[322.0, 927.0, 277.0, 1.3047000169754028, 5.64, 3.35, 0.21]</td>\n",
       "      <td>[0.7643954912465936, 0.8185704247263872, 0.724505477139781, 0.6867486587630678, 2.279531557560062, 0.32254928191146326, 3.616023618236778]</td>\n",
       "    </tr>\n",
       "    <tr>\n",
       "      <th>1</th>\n",
       "      <td>1.813</td>\n",
       "      <td>[399.0, 936.0, 406.0, 2.1875, 1.97, 2.31, 0.5]</td>\n",
       "      <td>[0.9471857174142573, 0.8265177104033424, 1.0619105549413397, 1.1514238303811815, 0.7962193560981068, 0.2224145794673075, 8.6095800434209]</td>\n",
       "    </tr>\n",
       "    <tr>\n",
       "      <th>2</th>\n",
       "      <td>1.931</td>\n",
       "      <td>[231.0, 617.0, 211.0, 3.8824000358581543, 5.16, 2.92, 0.21]</td>\n",
       "      <td>[0.548370678502991, 0.5448305847423742, 0.551879623380844, 2.043560192164495, 2.08552887181027, 0.2811474337855142, 3.616023618236778]</td>\n",
       "    </tr>\n",
       "    <tr>\n",
       "      <th>3</th>\n",
       "      <td>1.734</td>\n",
       "      <td>[268.0, 544.0, 216.0, 3.0694000720977783, 5.79, 2.52, 0.21]</td>\n",
       "      <td>[0.6362049430251151, 0.4803692675848486, 0.5649573395747028, 1.6156253202226736, 2.3401573968568723, 0.24263408669160816, 3.616023618236778]</td>\n",
       "    </tr>\n",
       "    <tr>\n",
       "      <th>4</th>\n",
       "      <td>1.258</td>\n",
       "      <td>[317.0, 1080.0, 291.0, 2.8499999046325684, 5.09, 3.71, 0.21]</td>\n",
       "      <td>[0.7525259960409011, 0.9536742812346259, 0.7611230824825858, 1.5001407116699583, 2.057236813471758, 0.3572112942959787, 3.616023618236778]</td>\n",
       "    </tr>\n",
       "    <tr>\n",
       "      <th>5</th>\n",
       "      <td>0.813</td>\n",
       "      <td>[180.0, 691.0, 164.0, 1.6952999830245972, 3.74, 4.21, 0.29]</td>\n",
       "      <td>[0.4273018274049281, 0.6101749336417838, 0.42894909115857066, 0.8923468800454096, 1.5116042598004669, 0.40535297816336124, 4.993556425184122]</td>\n",
       "    </tr>\n",
       "    <tr>\n",
       "      <th>6</th>\n",
       "      <td>1.435</td>\n",
       "      <td>[632.0, 1686.0, 613.0, 2.135999917984009, 4.11, 2.75, 0.25]</td>\n",
       "      <td>[1.5003041939995252, 1.488791516816277, 1.6033280053670964, 1.124315980461274, 1.6611479967325986, 0.26477926127060414, 4.30479002171045]</td>\n",
       "    </tr>\n",
       "    <tr>\n",
       "      <th>7</th>\n",
       "      <td>0.816</td>\n",
       "      <td>[614.0, 1695.0, 563.0, 1.899999976158142, 4.98, 3.01, 0.22]</td>\n",
       "      <td>[1.4575740112590325, 1.4967388024932322, 1.472550843428508, 1.0000938286958452, 2.0127778646540975, 0.28981293688164306, 3.788215219105196]</td>\n",
       "    </tr>\n",
       "    <tr>\n",
       "      <th>8</th>\n",
       "      <td>1.457</td>\n",
       "      <td>[391.0, 860.0, 331.0, 3.683799982070923, 6.33, 2.6, 0.19]</td>\n",
       "      <td>[0.9281945250851493, 0.759407298020165, 0.8657448120334567, 1.9390240391836477, 2.558410418325389, 0.2503367561103894, 3.271640416499942]</td>\n",
       "    </tr>\n",
       "  </tbody>\n",
       "</table>\n",
       "</div>"
      ],
      "text/plain": [
       "   label                                                      features  \\\n",
       "0  0.441   [322.0, 927.0, 277.0, 1.3047000169754028, 5.64, 3.35, 0.21]   \n",
       "1  1.813                [399.0, 936.0, 406.0, 2.1875, 1.97, 2.31, 0.5]   \n",
       "2  1.931   [231.0, 617.0, 211.0, 3.8824000358581543, 5.16, 2.92, 0.21]   \n",
       "3  1.734   [268.0, 544.0, 216.0, 3.0694000720977783, 5.79, 2.52, 0.21]   \n",
       "4  1.258  [317.0, 1080.0, 291.0, 2.8499999046325684, 5.09, 3.71, 0.21]   \n",
       "5  0.813   [180.0, 691.0, 164.0, 1.6952999830245972, 3.74, 4.21, 0.29]   \n",
       "6  1.435   [632.0, 1686.0, 613.0, 2.135999917984009, 4.11, 2.75, 0.25]   \n",
       "7  0.816   [614.0, 1695.0, 563.0, 1.899999976158142, 4.98, 3.01, 0.22]   \n",
       "8  1.457     [391.0, 860.0, 331.0, 3.683799982070923, 6.33, 2.6, 0.19]   \n",
       "\n",
       "                                                                                                                                   featurescaled  \n",
       "0     [0.7643954912465936, 0.8185704247263872, 0.724505477139781, 0.6867486587630678, 2.279531557560062, 0.32254928191146326, 3.616023618236778]  \n",
       "1      [0.9471857174142573, 0.8265177104033424, 1.0619105549413397, 1.1514238303811815, 0.7962193560981068, 0.2224145794673075, 8.6095800434209]  \n",
       "2         [0.548370678502991, 0.5448305847423742, 0.551879623380844, 2.043560192164495, 2.08552887181027, 0.2811474337855142, 3.616023618236778]  \n",
       "3   [0.6362049430251151, 0.4803692675848486, 0.5649573395747028, 1.6156253202226736, 2.3401573968568723, 0.24263408669160816, 3.616023618236778]  \n",
       "4     [0.7525259960409011, 0.9536742812346259, 0.7611230824825858, 1.5001407116699583, 2.057236813471758, 0.3572112942959787, 3.616023618236778]  \n",
       "5  [0.4273018274049281, 0.6101749336417838, 0.42894909115857066, 0.8923468800454096, 1.5116042598004669, 0.40535297816336124, 4.993556425184122]  \n",
       "6      [1.5003041939995252, 1.488791516816277, 1.6033280053670964, 1.124315980461274, 1.6611479967325986, 0.26477926127060414, 4.30479002171045]  \n",
       "7    [1.4575740112590325, 1.4967388024932322, 1.472550843428508, 1.0000938286958452, 2.0127778646540975, 0.28981293688164306, 3.788215219105196]  \n",
       "8      [0.9281945250851493, 0.759407298020165, 0.8657448120334567, 1.9390240391836477, 2.558410418325389, 0.2503367561103894, 3.271640416499942]  "
      ]
     },
     "execution_count": 26,
     "metadata": {},
     "output_type": "execute_result"
    }
   ],
   "source": [
    "scaled_df.sample(False, 0.0005, 1234).toPandas()"
   ]
  },
  {
   "cell_type": "markdown",
   "metadata": {},
   "source": [
    "We can see that all the features have been scaled !"
   ]
  },
  {
   "cell_type": "markdown",
   "metadata": {},
   "source": [
    "<a id=\"8\"></a> <br>\n",
    "## Building A Machine Learning Model With Spark ML\n",
    "With all the preprocessing done, it's finally time to start building our Linear Regression model! Just like always, we first need to split the data into training and test sets. We will use the randomSplit() method:"
   ]
  },
  {
   "cell_type": "code",
   "execution_count": 27,
   "metadata": {},
   "outputs": [],
   "source": [
    "train, test = scaled_df.randomSplit([0.8,0.2], seed = 1234)"
   ]
  },
  {
   "cell_type": "markdown",
   "metadata": {},
   "source": [
    "We pass in a list with two numbers that represent the size that we want your training and test sets to have and a seed, which is needed for reproducibility reasons.\n"
   ]
  },
  {
   "cell_type": "code",
   "execution_count": 67,
   "metadata": {},
   "outputs": [
    {
     "name": "stdout",
     "output_type": "stream",
     "text": [
      "+-------+--------------------+--------------------+\n",
      "|  label|            features|       featurescaled|\n",
      "+-------+--------------------+--------------------+\n",
      "|0.14999|[28.0,18.0,8.0,0....|[0.06646917315187...|\n",
      "|0.14999|[239.0,490.0,164....|[0.56736187083209...|\n",
      "|0.14999|[267.0,628.0,225....|[0.63383104398397...|\n",
      "|  0.225|[73.0,216.0,63.0,...|[0.17329463000310...|\n",
      "|  0.225|[79.0,167.0,53.0,...|[0.18753802424994...|\n",
      "+-------+--------------------+--------------------+\n",
      "only showing top 5 rows\n",
      "\n"
     ]
    }
   ],
   "source": [
    "train.show(5)"
   ]
  },
  {
   "cell_type": "code",
   "execution_count": 68,
   "metadata": {},
   "outputs": [
    {
     "name": "stdout",
     "output_type": "stream",
     "text": [
      "+-------+--------------------+--------------------+\n",
      "|  label|            features|       featurescaled|\n",
      "+-------+--------------------+--------------------+\n",
      "|0.14999|[73.0,85.0,38.0,1...|[0.17329463000310...|\n",
      "|  0.175|[168.0,259.0,138....|[0.39881503891126...|\n",
      "|  0.332|[131.0,511.0,124....|[0.31098077438914...|\n",
      "|  0.346|[208.0,660.0,188....|[0.49377100055680...|\n",
      "|   0.35|[1747.0,6852.0,15...|[4.14720162486894...|\n",
      "+-------+--------------------+--------------------+\n",
      "only showing top 5 rows\n",
      "\n"
     ]
    }
   ],
   "source": [
    "test.show(5)"
   ]
  },
  {
   "cell_type": "markdown",
   "metadata": {},
   "source": [
    "<a id=\"9\"></a> <br>\n",
    "## Create an ElasticNet model\n",
    "\n",
    "There is different methods : \n",
    "\n",
    "The Ridge method shrinks the coefﬁcients of correlated variables while the LASSO method picks one variable and discards the others. The elastic net penalty is a mixture of these two; if variables are correlated in groups then α = 0.5 tends to select the groups as in or out. If α is close to 1, the elastic net performs much like the LASSO method and removes any degeneracies and wild behavior caused by extreme correlations.\n",
    "\n",
    "Then, we will use the ElasticNet model. It's'a linear regression model trained with L1 and L2 prior as regularizer. \n",
    "Elastic-net is useful when there are multiple features which are correlated with one another. Lasso is likely to pick one of these at random, while elastic-net is likely to pick both.\n",
    "\n",
    "But before, just a quick summarize for the parameters :\n",
    "\n",
    "- When λ = 0 (i.e. regParam = 0), then there is no penalty.\n",
    "\n",
    "- When λ > 0 (i.e. regParam > 0) and α = 0 (i.e. elasticNetParam = 0) , then the penalty is an L2 penalty.\n",
    "\n",
    "- When λ > 0 (i.e. regParam > 0) and α = 1 (i.e. elasticNetParam = 1), then the penalty is an L1 penalty.\n",
    "\n",
    "- When λ > 0 (i.e. regParam > 0)and elasticNetParam∈ (0,1) (i.e. α ∈ (0,1)),thenthepenaltyis an L1 + L2 penalty.\n"
   ]
  },
  {
   "cell_type": "code",
   "execution_count": 28,
   "metadata": {},
   "outputs": [],
   "source": [
    "lr = (LinearRegression(featuresCol='featurescaled', labelCol=\"label\", predictionCol='predmedhv', \n",
    "                               maxIter=10, regParam=0.3, elasticNetParam=0.8, standardization=False))\n",
    "\n",
    "# Fit the data to the model\n",
    "linearModel = lr.fit(train)"
   ]
  },
  {
   "cell_type": "markdown",
   "metadata": {},
   "source": [
    "<a id=\"10\"></a> <br>\n",
    "## Evaluating our first model\n",
    "\n",
    "With our model in place, we can generate predictions for our test data: use the transform() method to predict the labels for our test_data. Then, we can use RDD operations to extract the predictions as well as the true labels from the DataFrame. And with those information, we can calcul metrics to see if our model perfoms nicely."
   ]
  },
  {
   "cell_type": "code",
   "execution_count": 30,
   "metadata": {},
   "outputs": [],
   "source": [
    "featureCols = [\"totbdrms\", \"pop\", \"houshlds\", \"medinc\", \"rmsperhh\", \"popperhh\", \"bdrmsperrm\"]"
   ]
  },
  {
   "cell_type": "code",
   "execution_count": 78,
   "metadata": {},
   "outputs": [
    {
     "data": {
      "text/html": [
       "<div>\n",
       "<style scoped>\n",
       "    .dataframe tbody tr th:only-of-type {\n",
       "        vertical-align: middle;\n",
       "    }\n",
       "\n",
       "    .dataframe tbody tr th {\n",
       "        vertical-align: top;\n",
       "    }\n",
       "\n",
       "    .dataframe thead th {\n",
       "        text-align: right;\n",
       "    }\n",
       "</style>\n",
       "<table border=\"1\" class=\"dataframe\">\n",
       "  <thead>\n",
       "    <tr style=\"text-align: right;\">\n",
       "      <th></th>\n",
       "      <th>Feature</th>\n",
       "      <th>Co-efficients</th>\n",
       "    </tr>\n",
       "  </thead>\n",
       "  <tbody>\n",
       "    <tr>\n",
       "      <th>0</th>\n",
       "      <td>Intercept</td>\n",
       "      <td>0.994113</td>\n",
       "    </tr>\n",
       "    <tr>\n",
       "      <th>1</th>\n",
       "      <td>totbdrms</td>\n",
       "      <td>0.000000</td>\n",
       "    </tr>\n",
       "    <tr>\n",
       "      <th>2</th>\n",
       "      <td>pop</td>\n",
       "      <td>0.000000</td>\n",
       "    </tr>\n",
       "    <tr>\n",
       "      <th>3</th>\n",
       "      <td>houshlds</td>\n",
       "      <td>0.000000</td>\n",
       "    </tr>\n",
       "    <tr>\n",
       "      <th>4</th>\n",
       "      <td>medinc</td>\n",
       "      <td>0.525985</td>\n",
       "    </tr>\n",
       "    <tr>\n",
       "      <th>5</th>\n",
       "      <td>rmsperhh</td>\n",
       "      <td>0.000000</td>\n",
       "    </tr>\n",
       "    <tr>\n",
       "      <th>6</th>\n",
       "      <td>popperhh</td>\n",
       "      <td>0.000000</td>\n",
       "    </tr>\n",
       "    <tr>\n",
       "      <th>7</th>\n",
       "      <td>bdrmsperrm</td>\n",
       "      <td>0.000000</td>\n",
       "    </tr>\n",
       "  </tbody>\n",
       "</table>\n",
       "</div>"
      ],
      "text/plain": [
       "      Feature  Co-efficients\n",
       "0   Intercept       0.994113\n",
       "1    totbdrms       0.000000\n",
       "2         pop       0.000000\n",
       "3    houshlds       0.000000\n",
       "4      medinc       0.525985\n",
       "5    rmsperhh       0.000000\n",
       "6    popperhh       0.000000\n",
       "7  bdrmsperrm       0.000000"
      ]
     },
     "execution_count": 78,
     "metadata": {},
     "output_type": "execute_result"
    }
   ],
   "source": [
    "coeff_df = pd.DataFrame({\"Feature\": [\"Intercept\"] + featureCols, \"Co-efficients\": np.insert(linearModel.coefficients.toArray(), 0, linearModel.intercept)})\n",
    "coeff_df = coeff_df[[\"Feature\", \"Co-efficients\"]]\n",
    "coeff_df"
   ]
  },
  {
   "cell_type": "code",
   "execution_count": 79,
   "metadata": {},
   "outputs": [],
   "source": [
    "predictions = linearModel.transform(test)"
   ]
  },
  {
   "cell_type": "code",
   "execution_count": 81,
   "metadata": {},
   "outputs": [
    {
     "name": "stdout",
     "output_type": "stream",
     "text": [
      "+-------+--------------------+--------------------+------------------+\n",
      "|  label|            features|       featurescaled|         predmedhv|\n",
      "+-------+--------------------+--------------------+------------------+\n",
      "|0.14999|[73.0,85.0,38.0,1...|[0.17329463000310...| 1.453894910011636|\n",
      "|  0.175|[168.0,259.0,138....|[0.39881503891126...|1.6493583168186925|\n",
      "|  0.332|[131.0,511.0,124....|[0.31098077438914...| 1.481774754138281|\n",
      "|  0.346|[208.0,660.0,188....|[0.49377100055680...| 1.612092933221201|\n",
      "|   0.35|[1747.0,6852.0,15...|[4.14720162486894...|1.6539265117220017|\n",
      "+-------+--------------------+--------------------+------------------+\n",
      "only showing top 5 rows\n",
      "\n"
     ]
    }
   ],
   "source": [
    "predictions.show(5)"
   ]
  },
  {
   "cell_type": "code",
   "execution_count": 82,
   "metadata": {},
   "outputs": [
    {
     "name": "stdout",
     "output_type": "stream",
     "text": [
      "+------------------+-------+\n",
      "|         predmedhv|  label|\n",
      "+------------------+-------+\n",
      "| 1.453894910011636|0.14999|\n",
      "|1.6493583168186925|  0.175|\n",
      "| 1.481774754138281|  0.332|\n",
      "| 1.612092933221201|  0.346|\n",
      "|1.6539265117220017|   0.35|\n",
      "+------------------+-------+\n",
      "only showing top 5 rows\n",
      "\n"
     ]
    }
   ],
   "source": [
    "pred = predictions.select(\"predmedhv\", \"label\").show(5)"
   ]
  },
  {
   "cell_type": "markdown",
   "metadata": {},
   "source": [
    "Looking at predicted values is one thing, but another and better thing is looking at some metrics to get a better idea of how good your model actually is using the LinearRegressionModel.summary attribute:\n",
    "\n",
    "Next, we can also use the summary attribute to pull up the rootMeanSquaredError and the r2."
   ]
  },
  {
   "cell_type": "code",
   "execution_count": 83,
   "metadata": {},
   "outputs": [
    {
     "data": {
      "text/plain": [
       "0.8793445603626889"
      ]
     },
     "execution_count": 83,
     "metadata": {},
     "output_type": "execute_result"
    }
   ],
   "source": [
    "linearModel.summary.rootMeanSquaredError"
   ]
  },
  {
   "cell_type": "code",
   "execution_count": 84,
   "metadata": {},
   "outputs": [
    {
     "data": {
      "text/plain": [
       "0.41936357370413735"
      ]
     },
     "execution_count": 84,
     "metadata": {},
     "output_type": "execute_result"
    }
   ],
   "source": [
    "linearModel.summary.r2"
   ]
  },
  {
   "cell_type": "code",
   "execution_count": 85,
   "metadata": {},
   "outputs": [
    {
     "data": {
      "text/plain": [
       "0.6769020329254777"
      ]
     },
     "execution_count": 85,
     "metadata": {},
     "output_type": "execute_result"
    }
   ],
   "source": [
    "linearModel.summary.meanAbsoluteError"
   ]
  },
  {
   "cell_type": "markdown",
   "metadata": {},
   "source": [
    "- The *RMSE* measures how much error there is between two datasets comparing a predicted value and an observed or known value. The smaller an RMSE value, the closer predicted and observed values are.\n",
    "\n",
    "- The *R2* (\"R squared\") or the coefficient of determination is a measure that shows how close the data are to the fitted regression line. This score will always be between 0 and a 100% (or 0 to 1 in this case), where 0% indicates that the model explains none of the variability of the response data around its mean, and 100% indicates the opposite: it explains all the variability. That means that, in general, the higher the R-squared, the better the model fits our data."
   ]
  },
  {
   "cell_type": "markdown",
   "metadata": {},
   "source": [
    "<a id=\"11\"></a> <br>\n",
    "## Let's try some others models in Spark"
   ]
  },
  {
   "cell_type": "markdown",
   "metadata": {},
   "source": [
    "But before diving into another model, we will build some functions to avoid redundancy, one function to print the basic summary of our model and another function to print the important metrics."
   ]
  },
  {
   "cell_type": "code",
   "execution_count": 31,
   "metadata": {},
   "outputs": [],
   "source": [
    "def modelsummary(model2):\n",
    "    import numpy as np\n",
    "    model = model2.fit(train)\n",
    "    print (\"Note: the last rows are the information for Intercept\")\n",
    "    print (\"##\",\"-------------------------------------------------\")\n",
    "    print (\"##\",\" Estimate | Std.Error | t Values | P-value\")\n",
    "    coef = np.append(list(model.coefficients),model.intercept)\n",
    "    Summary=model.summary\n",
    "    \n",
    "    for i in range(len(Summary.pValues)):\n",
    "        print (\"##\",'{:10.6f}'.format(coef[i]),\\\n",
    "               '{:10.6f}'.format(Summary.coefficientStandardErrors[i]),\\\n",
    "               '{:8.3f}'.format(Summary.tValues[i]),\\\n",
    "               '{:10.6f}'.format(Summary.pValues[i]))\n",
    "    print (\"##\",'---')"
   ]
  },
  {
   "cell_type": "code",
   "execution_count": 32,
   "metadata": {},
   "outputs": [],
   "source": [
    "def modelmetrics(model):\n",
    "    clf = model.fit(train)\n",
    "    predictions = clf.transform(test)\n",
    "    \n",
    "    import numpy as np\n",
    "    print (\"Models'metrics\")\n",
    "    print (\"##\",\"-------------------------------------------------\")\n",
    "    evaluator = RegressionEvaluator(labelCol=\"label\", predictionCol=\"predmedhv\", metricName=\"rmse\")\n",
    "    rmse = evaluator.evaluate(predictions)\n",
    "    print(\"Root Mean Squared Error (RMSE) on test data = %g\" % rmse)\n",
    "    print (\"##\",\"-------------------------------------------------\")\n",
    "    evaluator = RegressionEvaluator(labelCol=\"label\", predictionCol=\"predmedhv\", metricName=\"mae\")\n",
    "    mae = evaluator.evaluate(predictions)\n",
    "    print(\"Mean Absolute Error (MAE) on test data = %g\" % mae)\n",
    "    print (\"##\",\"-------------------------------------------------\")\n",
    "    evaluator = RegressionEvaluator(labelCol=\"label\", predictionCol=\"predmedhv\", metricName=\"r2\")\n",
    "    r2 = evaluator.evaluate(predictions)\n",
    "    print(\"R² on test data = %g\" % r2)"
   ]
  },
  {
   "cell_type": "markdown",
   "metadata": {},
   "source": [
    "We will try :\n",
    "- GeneralizedLinearRegression\n",
    "- DecisionTreeRegressor\n",
    "- RandomForestRegressor\n",
    "- GBTRegressor\n",
    "- IsotonicRegression\n",
    "\n",
    "That's all the models available on Spark for now. I should point that Spark is under construction so all the methods available on basic Python aren't available right now, but soon they will be, I'm quite sure."
   ]
  },
  {
   "cell_type": "code",
   "execution_count": 33,
   "metadata": {},
   "outputs": [],
   "source": [
    "glr = GeneralizedLinearRegression(predictionCol='predmedhv', family=\"gaussian\", link=\"identity\",\\\n",
    "                                  maxIter=10, regParam=0.3)"
   ]
  },
  {
   "cell_type": "code",
   "execution_count": 34,
   "metadata": {},
   "outputs": [
    {
     "name": "stdout",
     "output_type": "stream",
     "text": [
      "Note: the last rows are the information for Intercept\n",
      "## -------------------------------------------------\n",
      "##  Estimate | Std.Error | t Values | P-value\n",
      "##   0.000173   0.000023    7.659   0.000000\n",
      "##  -0.000134   0.000008  -17.002   0.000000\n",
      "##   0.000258   0.000026   10.027   0.000000\n",
      "##   0.355437   0.003461  102.706   0.000000\n",
      "##  -0.009127   0.002641   -3.456   0.000549\n",
      "##  -0.002533   0.000893   -2.836   0.004577\n",
      "##   1.427353   0.116475   12.255   0.000000\n",
      "##   0.412278   0.038840   10.615   0.000000\n",
      "## ---\n"
     ]
    }
   ],
   "source": [
    "modelsummary(glr)"
   ]
  },
  {
   "cell_type": "code",
   "execution_count": 35,
   "metadata": {},
   "outputs": [
    {
     "name": "stdout",
     "output_type": "stream",
     "text": [
      "Models'metrics\n",
      "## -------------------------------------------------\n",
      "Root Mean Squared Error (RMSE) on test data = 0.822196\n",
      "## -------------------------------------------------\n",
      "Mean Absolute Error (MAE) on test data = 0.619103\n",
      "## -------------------------------------------------\n",
      "R² on test data = 0.492011\n"
     ]
    }
   ],
   "source": [
    "modelmetrics(glr)"
   ]
  },
  {
   "cell_type": "code",
   "execution_count": 36,
   "metadata": {},
   "outputs": [],
   "source": [
    "dt = DecisionTreeRegressor(featuresCol=\"featurescaled\", predictionCol='predmedhv')"
   ]
  },
  {
   "cell_type": "code",
   "execution_count": 37,
   "metadata": {},
   "outputs": [
    {
     "name": "stdout",
     "output_type": "stream",
     "text": [
      "Models'metrics\n",
      "## -------------------------------------------------\n",
      "Root Mean Squared Error (RMSE) on test data = 0.738183\n",
      "## -------------------------------------------------\n",
      "Mean Absolute Error (MAE) on test data = 0.537988\n",
      "## -------------------------------------------------\n",
      "R² on test data = 0.590521\n"
     ]
    }
   ],
   "source": [
    "modelmetrics(dt)"
   ]
  },
  {
   "cell_type": "code",
   "execution_count": 38,
   "metadata": {},
   "outputs": [],
   "source": [
    "rf = RandomForestRegressor(featuresCol=\"featurescaled\", predictionCol='predmedhv')"
   ]
  },
  {
   "cell_type": "code",
   "execution_count": 39,
   "metadata": {},
   "outputs": [
    {
     "name": "stdout",
     "output_type": "stream",
     "text": [
      "Models'metrics\n",
      "## -------------------------------------------------\n",
      "Root Mean Squared Error (RMSE) on test data = 0.739849\n",
      "## -------------------------------------------------\n",
      "Mean Absolute Error (MAE) on test data = 0.552567\n",
      "## -------------------------------------------------\n",
      "R² on test data = 0.588671\n"
     ]
    }
   ],
   "source": [
    "modelmetrics(rf)"
   ]
  },
  {
   "cell_type": "code",
   "execution_count": 43,
   "metadata": {},
   "outputs": [
    {
     "name": "stdout",
     "output_type": "stream",
     "text": [
      "Models'metrics\n",
      "## -------------------------------------------------\n",
      "Root Mean Squared Error (RMSE) on test data = 0.725554\n",
      "## -------------------------------------------------\n",
      "Mean Absolute Error (MAE) on test data = 0.523403\n",
      "## -------------------------------------------------\n",
      "R² on test data = 0.604411\n"
     ]
    }
   ],
   "source": [
    "gbt = GBTRegressor(featuresCol=\"featurescaled\", predictionCol='predmedhv', maxIter=10)\n",
    "\n",
    "modelmetrics(gbt)"
   ]
  },
  {
   "cell_type": "code",
   "execution_count": 51,
   "metadata": {},
   "outputs": [
    {
     "name": "stdout",
     "output_type": "stream",
     "text": [
      "Models'metrics\n",
      "## -------------------------------------------------\n",
      "Root Mean Squared Error (RMSE) on test data = 1.15205\n",
      "## -------------------------------------------------\n",
      "Mean Absolute Error (MAE) on test data = 0.904553\n",
      "## -------------------------------------------------\n",
      "R² on test data = 0.0026531\n"
     ]
    }
   ],
   "source": [
    "IR = IsotonicRegression(featuresCol=\"featurescaled\", predictionCol='predmedhv')\n",
    "\n",
    "modelmetrics(IR)"
   ]
  },
  {
   "cell_type": "markdown",
   "metadata": {},
   "source": [
    "GBTregressor seems the best models ! It has the smaller RMSE and the bigger R².\n",
    "Let's see if we can optimize this model with some CrossValidation.\n",
    "\n",
    "First, let's see the GBTRegressor's parameters."
   ]
  },
  {
   "cell_type": "code",
   "execution_count": 52,
   "metadata": {},
   "outputs": [
    {
     "data": {
      "text/plain": [
       "{'seed': 3721364409226163258,\n",
       " 'predictionCol': 'prediction',\n",
       " 'featuresCol': 'features',\n",
       " 'labelCol': 'label',\n",
       " 'maxDepth': 5,\n",
       " 'maxBins': 32,\n",
       " 'minInstancesPerNode': 1,\n",
       " 'minInfoGain': 0.0,\n",
       " 'maxMemoryInMB': 256,\n",
       " 'cacheNodeIds': False,\n",
       " 'subsamplingRate': 1.0,\n",
       " 'checkpointInterval': 10,\n",
       " 'lossType': 'squared',\n",
       " 'maxIter': 20,\n",
       " 'stepSize': 0.1,\n",
       " 'impurity': 'variance',\n",
       " 'featureSubsetStrategy': 'all',\n",
       " 'validationTol': 0.01,\n",
       " 'leafCol': '',\n",
       " 'minWeightFractionPerNode': 0.0}"
      ]
     },
     "execution_count": 52,
     "metadata": {},
     "output_type": "execute_result"
    }
   ],
   "source": [
    "est = GBTRegressor()\n",
    "{param[0].name: param[1] for param in est.extractParamMap().items()}"
   ]
  },
  {
   "cell_type": "markdown",
   "metadata": {},
   "source": [
    "I will build a CrossValidator with  'maxIter', 'maxDepth' and 'maxBins'."
   ]
  },
  {
   "cell_type": "code",
   "execution_count": 56,
   "metadata": {},
   "outputs": [],
   "source": [
    "evaluator = RegressionEvaluator(labelCol=\"label\", predictionCol=\"predmedhv\", metricName=\"rmse\")\n",
    "\n",
    "paramGrid = ParamGridBuilder() \\\n",
    "    .addGrid(gbt.maxIter, [1, 10, 20]) \\\n",
    "    .addGrid(gbt.maxDepth, [1, 5, 10]) \\\n",
    "    .addGrid(gbt.maxBins, [30, 32, 34]) \\\n",
    "    .build()\n",
    "\n",
    "crossval = CrossValidator(estimator=gbt,\n",
    "                          estimatorParamMaps=paramGrid,\n",
    "                          evaluator=evaluator,\n",
    "                          numFolds=3)\n",
    "\n",
    "cvmodel = crossval.fit(scaled_df)"
   ]
  },
  {
   "cell_type": "code",
   "execution_count": 66,
   "metadata": {},
   "outputs": [],
   "source": [
    "predictions = cvmodel.transform(test)"
   ]
  },
  {
   "cell_type": "code",
   "execution_count": 67,
   "metadata": {},
   "outputs": [
    {
     "name": "stdout",
     "output_type": "stream",
     "text": [
      "+-------+--------------------+--------------------+------------------+\n",
      "|  label|            features|       featurescaled|         predmedhv|\n",
      "+-------+--------------------+--------------------+------------------+\n",
      "|0.14999|[73.0,85.0,38.0,1...|[0.17329463000310...|1.0296956748201365|\n",
      "|  0.175|[168.0,259.0,138....|[0.39881503891126...|2.1570437818153536|\n",
      "|  0.332|[131.0,511.0,124....|[0.31098077438914...|0.8475751836933584|\n",
      "|  0.346|[208.0,660.0,188....|[0.49377100055680...|0.8775496927871658|\n",
      "|   0.35|[1747.0,6852.0,15...|[4.14720162486894...|0.9547164439993671|\n",
      "+-------+--------------------+--------------------+------------------+\n",
      "only showing top 5 rows\n",
      "\n"
     ]
    }
   ],
   "source": [
    "predictions.show(5)"
   ]
  },
  {
   "cell_type": "code",
   "execution_count": 68,
   "metadata": {},
   "outputs": [
    {
     "name": "stdout",
     "output_type": "stream",
     "text": [
      "Models'metrics\n",
      "## -------------------------------------------------\n",
      "Root Mean Squared Error (RMSE) on test data = 0.685936\n",
      "## -------------------------------------------------\n",
      "Mean Absolute Error (MAE) on test data = 0.49639\n",
      "## -------------------------------------------------\n",
      "R² on test data = 0.646433\n"
     ]
    }
   ],
   "source": [
    "    print (\"Models'metrics\")\n",
    "    print (\"##\",\"-------------------------------------------------\")\n",
    "    evaluator = RegressionEvaluator(labelCol=\"label\", predictionCol=\"predmedhv\", metricName=\"rmse\")\n",
    "    rmse = evaluator.evaluate(predictions)\n",
    "    print(\"Root Mean Squared Error (RMSE) on test data = %g\" % rmse)\n",
    "    print (\"##\",\"-------------------------------------------------\")\n",
    "    evaluator = RegressionEvaluator(labelCol=\"label\", predictionCol=\"predmedhv\", metricName=\"mae\")\n",
    "    mae = evaluator.evaluate(predictions)\n",
    "    print(\"Mean Absolute Error (MAE) on test data = %g\" % mae)\n",
    "    print (\"##\",\"-------------------------------------------------\")\n",
    "    evaluator = RegressionEvaluator(labelCol=\"label\", predictionCol=\"predmedhv\", metricName=\"r2\")\n",
    "    r2 = evaluator.evaluate(predictions)\n",
    "    print(\"R² on test data = %g\" % r2)\n"
   ]
  },
  {
   "cell_type": "markdown",
   "metadata": {},
   "source": [
    "That's better ! \n",
    "There's definitely some improvements which might be done. For now, I just wanted to do some practice, maybe later when my skill with Spark will be better, I will keep it up. "
   ]
  }
 ],
 "metadata": {
  "kernelspec": {
   "display_name": "Python 3",
   "language": "python",
   "name": "python3"
  },
  "language_info": {
   "codemirror_mode": {
    "name": "ipython",
    "version": 3
   },
   "file_extension": ".py",
   "mimetype": "text/x-python",
   "name": "python",
   "nbconvert_exporter": "python",
   "pygments_lexer": "ipython3",
   "version": "3.6.8"
  }
 },
 "nbformat": 4,
 "nbformat_minor": 2
}
